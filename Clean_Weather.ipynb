{
  "nbformat": 4,
  "nbformat_minor": 0,
  "metadata": {
    "colab": {
      "provenance": [],
      "authorship_tag": "ABX9TyMEywvVNO7lluhnmq4MdSh7",
      "include_colab_link": true
    },
    "kernelspec": {
      "name": "python3",
      "display_name": "Python 3"
    },
    "language_info": {
      "name": "python"
    }
  },
  "cells": [
    {
      "cell_type": "markdown",
      "metadata": {
        "id": "view-in-github",
        "colab_type": "text"
      },
      "source": [
        "<a href=\"https://colab.research.google.com/github/krisious/clean_weather_prediction/blob/main/Clean_Weather.ipynb\" target=\"_parent\"><img src=\"https://colab.research.google.com/assets/colab-badge.svg\" alt=\"Open In Colab\"/></a>"
      ]
    },
    {
      "cell_type": "markdown",
      "source": [
        "**Langkah 1: Persiapan dan Instalasi**"
      ],
      "metadata": {
        "id": "SCS46KC0MmAJ"
      }
    },
    {
      "cell_type": "code",
      "source": [
        "!pip install pyspark pandas matplotlib\n",
        "from pyspark.sql import SparkSession\n",
        "import pandas as pd\n",
        "import matplotlib.pyplot as plt"
      ],
      "metadata": {
        "colab": {
          "base_uri": "https://localhost:8080/"
        },
        "id": "M7aMY0jfMpiw",
        "outputId": "f188dd14-1b17-4196-f0f6-2bb6f3c9cd51"
      },
      "execution_count": null,
      "outputs": [
        {
          "output_type": "stream",
          "name": "stdout",
          "text": [
            "Collecting pyspark\n",
            "  Downloading pyspark-3.5.0.tar.gz (316.9 MB)\n",
            "\u001b[2K     \u001b[90m━━━━━━━━━━━━━━━━━━━━━━━━━━━━━━━━━━━━━━━━\u001b[0m \u001b[32m316.9/316.9 MB\u001b[0m \u001b[31m3.7 MB/s\u001b[0m eta \u001b[36m0:00:00\u001b[0m\n",
            "\u001b[?25h  Preparing metadata (setup.py) ... \u001b[?25l\u001b[?25hdone\n",
            "Requirement already satisfied: pandas in /usr/local/lib/python3.10/dist-packages (1.5.3)\n",
            "Requirement already satisfied: matplotlib in /usr/local/lib/python3.10/dist-packages (3.7.1)\n",
            "Requirement already satisfied: py4j==0.10.9.7 in /usr/local/lib/python3.10/dist-packages (from pyspark) (0.10.9.7)\n",
            "Requirement already satisfied: python-dateutil>=2.8.1 in /usr/local/lib/python3.10/dist-packages (from pandas) (2.8.2)\n",
            "Requirement already satisfied: pytz>=2020.1 in /usr/local/lib/python3.10/dist-packages (from pandas) (2023.3.post1)\n",
            "Requirement already satisfied: numpy>=1.21.0 in /usr/local/lib/python3.10/dist-packages (from pandas) (1.23.5)\n",
            "Requirement already satisfied: contourpy>=1.0.1 in /usr/local/lib/python3.10/dist-packages (from matplotlib) (1.2.0)\n",
            "Requirement already satisfied: cycler>=0.10 in /usr/local/lib/python3.10/dist-packages (from matplotlib) (0.12.1)\n",
            "Requirement already satisfied: fonttools>=4.22.0 in /usr/local/lib/python3.10/dist-packages (from matplotlib) (4.45.1)\n",
            "Requirement already satisfied: kiwisolver>=1.0.1 in /usr/local/lib/python3.10/dist-packages (from matplotlib) (1.4.5)\n",
            "Requirement already satisfied: packaging>=20.0 in /usr/local/lib/python3.10/dist-packages (from matplotlib) (23.2)\n",
            "Requirement already satisfied: pillow>=6.2.0 in /usr/local/lib/python3.10/dist-packages (from matplotlib) (9.4.0)\n",
            "Requirement already satisfied: pyparsing>=2.3.1 in /usr/local/lib/python3.10/dist-packages (from matplotlib) (3.1.1)\n",
            "Requirement already satisfied: six>=1.5 in /usr/local/lib/python3.10/dist-packages (from python-dateutil>=2.8.1->pandas) (1.16.0)\n",
            "Building wheels for collected packages: pyspark\n",
            "  Building wheel for pyspark (setup.py) ... \u001b[?25l\u001b[?25hdone\n",
            "  Created wheel for pyspark: filename=pyspark-3.5.0-py2.py3-none-any.whl size=317425345 sha256=318330e0afe70620aefeecde273689bc868e866525d9b8cee3f68f4e6d02e250\n",
            "  Stored in directory: /root/.cache/pip/wheels/41/4e/10/c2cf2467f71c678cfc8a6b9ac9241e5e44a01940da8fbb17fc\n",
            "Successfully built pyspark\n",
            "Installing collected packages: pyspark\n",
            "Successfully installed pyspark-3.5.0\n"
          ]
        }
      ]
    },
    {
      "cell_type": "markdown",
      "source": [
        "**Langkah 2: Membuat Sesi Spark**"
      ],
      "metadata": {
        "id": "_-rOktUAMuSd"
      }
    },
    {
      "cell_type": "code",
      "execution_count": null,
      "metadata": {
        "id": "swEEh3BLLF0v"
      },
      "outputs": [],
      "source": [
        "spark = SparkSession.builder.appName(\"Clean Weather\").getOrCreate()"
      ]
    },
    {
      "cell_type": "markdown",
      "source": [
        "**Langkah 3: Pengambilan Data**"
      ],
      "metadata": {
        "id": "tu0cg2SCM6g0"
      }
    },
    {
      "cell_type": "code",
      "source": [
        "from google.colab import files\n",
        "\n",
        "# Upload file kaggle.json\n",
        "uploaded = files.upload()"
      ],
      "metadata": {
        "colab": {
          "base_uri": "https://localhost:8080/",
          "height": 73
        },
        "id": "4eVRnPlTM8bZ",
        "outputId": "0a3d6099-2cf0-44b5-bec0-27f8053149f7"
      },
      "execution_count": null,
      "outputs": [
        {
          "output_type": "display_data",
          "data": {
            "text/plain": [
              "<IPython.core.display.HTML object>"
            ],
            "text/html": [
              "\n",
              "     <input type=\"file\" id=\"files-e6097d32-86ed-4d32-88e6-679f27cf5be1\" name=\"files[]\" multiple disabled\n",
              "        style=\"border:none\" />\n",
              "     <output id=\"result-e6097d32-86ed-4d32-88e6-679f27cf5be1\">\n",
              "      Upload widget is only available when the cell has been executed in the\n",
              "      current browser session. Please rerun this cell to enable.\n",
              "      </output>\n",
              "      <script>// Copyright 2017 Google LLC\n",
              "//\n",
              "// Licensed under the Apache License, Version 2.0 (the \"License\");\n",
              "// you may not use this file except in compliance with the License.\n",
              "// You may obtain a copy of the License at\n",
              "//\n",
              "//      http://www.apache.org/licenses/LICENSE-2.0\n",
              "//\n",
              "// Unless required by applicable law or agreed to in writing, software\n",
              "// distributed under the License is distributed on an \"AS IS\" BASIS,\n",
              "// WITHOUT WARRANTIES OR CONDITIONS OF ANY KIND, either express or implied.\n",
              "// See the License for the specific language governing permissions and\n",
              "// limitations under the License.\n",
              "\n",
              "/**\n",
              " * @fileoverview Helpers for google.colab Python module.\n",
              " */\n",
              "(function(scope) {\n",
              "function span(text, styleAttributes = {}) {\n",
              "  const element = document.createElement('span');\n",
              "  element.textContent = text;\n",
              "  for (const key of Object.keys(styleAttributes)) {\n",
              "    element.style[key] = styleAttributes[key];\n",
              "  }\n",
              "  return element;\n",
              "}\n",
              "\n",
              "// Max number of bytes which will be uploaded at a time.\n",
              "const MAX_PAYLOAD_SIZE = 100 * 1024;\n",
              "\n",
              "function _uploadFiles(inputId, outputId) {\n",
              "  const steps = uploadFilesStep(inputId, outputId);\n",
              "  const outputElement = document.getElementById(outputId);\n",
              "  // Cache steps on the outputElement to make it available for the next call\n",
              "  // to uploadFilesContinue from Python.\n",
              "  outputElement.steps = steps;\n",
              "\n",
              "  return _uploadFilesContinue(outputId);\n",
              "}\n",
              "\n",
              "// This is roughly an async generator (not supported in the browser yet),\n",
              "// where there are multiple asynchronous steps and the Python side is going\n",
              "// to poll for completion of each step.\n",
              "// This uses a Promise to block the python side on completion of each step,\n",
              "// then passes the result of the previous step as the input to the next step.\n",
              "function _uploadFilesContinue(outputId) {\n",
              "  const outputElement = document.getElementById(outputId);\n",
              "  const steps = outputElement.steps;\n",
              "\n",
              "  const next = steps.next(outputElement.lastPromiseValue);\n",
              "  return Promise.resolve(next.value.promise).then((value) => {\n",
              "    // Cache the last promise value to make it available to the next\n",
              "    // step of the generator.\n",
              "    outputElement.lastPromiseValue = value;\n",
              "    return next.value.response;\n",
              "  });\n",
              "}\n",
              "\n",
              "/**\n",
              " * Generator function which is called between each async step of the upload\n",
              " * process.\n",
              " * @param {string} inputId Element ID of the input file picker element.\n",
              " * @param {string} outputId Element ID of the output display.\n",
              " * @return {!Iterable<!Object>} Iterable of next steps.\n",
              " */\n",
              "function* uploadFilesStep(inputId, outputId) {\n",
              "  const inputElement = document.getElementById(inputId);\n",
              "  inputElement.disabled = false;\n",
              "\n",
              "  const outputElement = document.getElementById(outputId);\n",
              "  outputElement.innerHTML = '';\n",
              "\n",
              "  const pickedPromise = new Promise((resolve) => {\n",
              "    inputElement.addEventListener('change', (e) => {\n",
              "      resolve(e.target.files);\n",
              "    });\n",
              "  });\n",
              "\n",
              "  const cancel = document.createElement('button');\n",
              "  inputElement.parentElement.appendChild(cancel);\n",
              "  cancel.textContent = 'Cancel upload';\n",
              "  const cancelPromise = new Promise((resolve) => {\n",
              "    cancel.onclick = () => {\n",
              "      resolve(null);\n",
              "    };\n",
              "  });\n",
              "\n",
              "  // Wait for the user to pick the files.\n",
              "  const files = yield {\n",
              "    promise: Promise.race([pickedPromise, cancelPromise]),\n",
              "    response: {\n",
              "      action: 'starting',\n",
              "    }\n",
              "  };\n",
              "\n",
              "  cancel.remove();\n",
              "\n",
              "  // Disable the input element since further picks are not allowed.\n",
              "  inputElement.disabled = true;\n",
              "\n",
              "  if (!files) {\n",
              "    return {\n",
              "      response: {\n",
              "        action: 'complete',\n",
              "      }\n",
              "    };\n",
              "  }\n",
              "\n",
              "  for (const file of files) {\n",
              "    const li = document.createElement('li');\n",
              "    li.append(span(file.name, {fontWeight: 'bold'}));\n",
              "    li.append(span(\n",
              "        `(${file.type || 'n/a'}) - ${file.size} bytes, ` +\n",
              "        `last modified: ${\n",
              "            file.lastModifiedDate ? file.lastModifiedDate.toLocaleDateString() :\n",
              "                                    'n/a'} - `));\n",
              "    const percent = span('0% done');\n",
              "    li.appendChild(percent);\n",
              "\n",
              "    outputElement.appendChild(li);\n",
              "\n",
              "    const fileDataPromise = new Promise((resolve) => {\n",
              "      const reader = new FileReader();\n",
              "      reader.onload = (e) => {\n",
              "        resolve(e.target.result);\n",
              "      };\n",
              "      reader.readAsArrayBuffer(file);\n",
              "    });\n",
              "    // Wait for the data to be ready.\n",
              "    let fileData = yield {\n",
              "      promise: fileDataPromise,\n",
              "      response: {\n",
              "        action: 'continue',\n",
              "      }\n",
              "    };\n",
              "\n",
              "    // Use a chunked sending to avoid message size limits. See b/62115660.\n",
              "    let position = 0;\n",
              "    do {\n",
              "      const length = Math.min(fileData.byteLength - position, MAX_PAYLOAD_SIZE);\n",
              "      const chunk = new Uint8Array(fileData, position, length);\n",
              "      position += length;\n",
              "\n",
              "      const base64 = btoa(String.fromCharCode.apply(null, chunk));\n",
              "      yield {\n",
              "        response: {\n",
              "          action: 'append',\n",
              "          file: file.name,\n",
              "          data: base64,\n",
              "        },\n",
              "      };\n",
              "\n",
              "      let percentDone = fileData.byteLength === 0 ?\n",
              "          100 :\n",
              "          Math.round((position / fileData.byteLength) * 100);\n",
              "      percent.textContent = `${percentDone}% done`;\n",
              "\n",
              "    } while (position < fileData.byteLength);\n",
              "  }\n",
              "\n",
              "  // All done.\n",
              "  yield {\n",
              "    response: {\n",
              "      action: 'complete',\n",
              "    }\n",
              "  };\n",
              "}\n",
              "\n",
              "scope.google = scope.google || {};\n",
              "scope.google.colab = scope.google.colab || {};\n",
              "scope.google.colab._files = {\n",
              "  _uploadFiles,\n",
              "  _uploadFilesContinue,\n",
              "};\n",
              "})(self);\n",
              "</script> "
            ]
          },
          "metadata": {}
        },
        {
          "output_type": "stream",
          "name": "stdout",
          "text": [
            "Saving kaggle.json to kaggle.json\n"
          ]
        }
      ]
    },
    {
      "cell_type": "code",
      "source": [
        "#Instalasi dan Menggunakan API Kaggle\n",
        "!pip install kaggle"
      ],
      "metadata": {
        "colab": {
          "base_uri": "https://localhost:8080/"
        },
        "id": "KgELhkPHNSDG",
        "outputId": "8cb89d46-5628-43eb-f68c-1e2e8b093802"
      },
      "execution_count": null,
      "outputs": [
        {
          "output_type": "stream",
          "name": "stdout",
          "text": [
            "Requirement already satisfied: kaggle in /usr/local/lib/python3.10/dist-packages (1.5.16)\n",
            "Requirement already satisfied: six>=1.10 in /usr/local/lib/python3.10/dist-packages (from kaggle) (1.16.0)\n",
            "Requirement already satisfied: certifi in /usr/local/lib/python3.10/dist-packages (from kaggle) (2023.11.17)\n",
            "Requirement already satisfied: python-dateutil in /usr/local/lib/python3.10/dist-packages (from kaggle) (2.8.2)\n",
            "Requirement already satisfied: requests in /usr/local/lib/python3.10/dist-packages (from kaggle) (2.31.0)\n",
            "Requirement already satisfied: tqdm in /usr/local/lib/python3.10/dist-packages (from kaggle) (4.66.1)\n",
            "Requirement already satisfied: python-slugify in /usr/local/lib/python3.10/dist-packages (from kaggle) (8.0.1)\n",
            "Requirement already satisfied: urllib3 in /usr/local/lib/python3.10/dist-packages (from kaggle) (2.0.7)\n",
            "Requirement already satisfied: bleach in /usr/local/lib/python3.10/dist-packages (from kaggle) (6.1.0)\n",
            "Requirement already satisfied: webencodings in /usr/local/lib/python3.10/dist-packages (from bleach->kaggle) (0.5.1)\n",
            "Requirement already satisfied: text-unidecode>=1.3 in /usr/local/lib/python3.10/dist-packages (from python-slugify->kaggle) (1.3)\n",
            "Requirement already satisfied: charset-normalizer<4,>=2 in /usr/local/lib/python3.10/dist-packages (from requests->kaggle) (3.3.2)\n",
            "Requirement already satisfied: idna<4,>=2.5 in /usr/local/lib/python3.10/dist-packages (from requests->kaggle) (3.6)\n"
          ]
        }
      ]
    },
    {
      "cell_type": "code",
      "source": [
        "import os\n",
        "\n",
        "# Pindahkan file kaggle.json ke folder .kaggle\n",
        "!mkdir -p ~/.kaggle\n",
        "!cp kaggle.json ~/.kaggle/\n",
        "!chmod 600 ~/.kaggle/kaggle.json"
      ],
      "metadata": {
        "id": "ULkpgPB_NVXQ"
      },
      "execution_count": null,
      "outputs": []
    },
    {
      "cell_type": "code",
      "source": [
        "# Tentukan tempat penyimpanan dataset\n",
        "dataset_path = '/content/weather-prediction'"
      ],
      "metadata": {
        "id": "VDANwEE0NuxO"
      },
      "execution_count": null,
      "outputs": []
    },
    {
      "cell_type": "code",
      "source": [
        "# Unduh dataset menggunakan kaggle API\n",
        "!kaggle datasets download -d alvinbimo/weather-prediction -p {dataset_path}"
      ],
      "metadata": {
        "colab": {
          "base_uri": "https://localhost:8080/"
        },
        "id": "gyfbS_0tNxHW",
        "outputId": "682d70dc-0537-4622-b243-5f052b2bf16e"
      },
      "execution_count": null,
      "outputs": [
        {
          "output_type": "stream",
          "name": "stdout",
          "text": [
            "Downloading weather-prediction.zip to /content/weather-prediction\n",
            "\r  0% 0.00/59.7k [00:00<?, ?B/s]\n",
            "\r100% 59.7k/59.7k [00:00<00:00, 93.8MB/s]\n"
          ]
        }
      ]
    },
    {
      "cell_type": "code",
      "source": [
        "# Ekstrak file zip\n",
        "!unzip weather-prediction.zip"
      ],
      "metadata": {
        "colab": {
          "base_uri": "https://localhost:8080/"
        },
        "id": "wl7zLYVhNzp1",
        "outputId": "763fc9f5-d24c-4d1f-e53d-dd59ae994aba"
      },
      "execution_count": null,
      "outputs": [
        {
          "output_type": "stream",
          "name": "stdout",
          "text": [
            "Archive:  weather-prediction.zip\n",
            "  inflating: Clean_Weather.csv       \n"
          ]
        }
      ]
    },
    {
      "cell_type": "code",
      "source": [
        "# Ekstrak file zip\n",
        "import zipfile\n",
        "\n",
        "with zipfile.ZipFile(os.path.join(dataset_path, 'weather-prediction.zip'), 'r') as zip_ref:\n",
        "    zip_ref.extractall(dataset_path)"
      ],
      "metadata": {
        "id": "wOEnLUEsN6er"
      },
      "execution_count": null,
      "outputs": []
    },
    {
      "cell_type": "code",
      "source": [
        "# Tampilkan daftar file dalam dataset\n",
        "os.listdir(dataset_path)"
      ],
      "metadata": {
        "colab": {
          "base_uri": "https://localhost:8080/"
        },
        "id": "DME3_Km3OQwm",
        "outputId": "efb6d492-3440-4299-eeeb-738aaf682084"
      },
      "execution_count": null,
      "outputs": [
        {
          "output_type": "execute_result",
          "data": {
            "text/plain": [
              "['Clean_Weather.csv', 'weather-prediction.zip']"
            ]
          },
          "metadata": {},
          "execution_count": 16
        }
      ]
    },
    {
      "cell_type": "markdown",
      "source": [
        "**Langkah 4: Baca Data dengan Pandas**"
      ],
      "metadata": {
        "id": "Hc_yWTZgOTiw"
      }
    },
    {
      "cell_type": "code",
      "source": [
        "# Baca data dengan Pandas\n",
        "weather_data = pd.read_csv(os.path.join(dataset_path, 'Clean_Weather.csv'))\n",
        "\n",
        "# Tampilkan beberapa baris data\n",
        "weather_data.head()"
      ],
      "metadata": {
        "colab": {
          "base_uri": "https://localhost:8080/",
          "height": 256
        },
        "id": "jhI9q6RmOZjF",
        "outputId": "186569b2-6e8d-424f-9d8e-8ebce3b309b5"
      },
      "execution_count": null,
      "outputs": [
        {
          "output_type": "execute_result",
          "data": {
            "text/plain": [
              "   Tahun  Bulan  tgl temp7 temp13 temp18 temp_avg temp_24 temp_max temp_min  \\\n",
              "0   2019      1  1.0  27.4   33.2   29.8     29.5    29.7     33.8     26.8   \n",
              "1   2019      1  2.0  28.2   34.4   26.0     29.2    28.5     34.8     25.2   \n",
              "2   2019      1  3.0  25.4   31.3   26.6     27.2    27.2     31.7     24.8   \n",
              "3   2019      1  4.0  25.4   31.4   29.6     28.0    28.3     32.1     25.0   \n",
              "4   2019      1  5.0  27.6   33.0   30.6     29.7    29.7     33.4     26.8   \n",
              "\n",
              "   ...   press             humid7             humid13            humid18  \\\n",
              "0  ...  1010.3   78.6505836125575  54.836446564128074  74.27096201770802   \n",
              "1  ...  1010.6  73.40380157973996   53.68666285089573  93.47656840107817   \n",
              "2  ...  1011.4  94.20347210821006   64.95247934343949  87.31227976924256   \n",
              "3  ...  1012.5  91.76423123386563   66.24430228261507  76.86944439631735   \n",
              "4  ...  1014.1  86.08433224972319   60.26014815147468  70.13680564800549   \n",
              "\n",
              "  humid_avg humid_24              ws_abg mod_dir max_ws    dir  \n",
              "0      72.0     71.0                5.75      BL   10.0  290.0  \n",
              "1      73.0     77.0  3.7916666666666665       B   16.0  340.0  \n",
              "2      85.0     83.0               2.875       B   12.0  330.0  \n",
              "3      82.0     82.0                 3.0       U   12.0  360.0  \n",
              "4      76.0     76.0                 3.5       U   15.0  350.0  \n",
              "\n",
              "[5 rows x 25 columns]"
            ],
            "text/html": [
              "\n",
              "  <div id=\"df-bc641ff4-942a-48d7-83db-b08f83b51b29\" class=\"colab-df-container\">\n",
              "    <div>\n",
              "<style scoped>\n",
              "    .dataframe tbody tr th:only-of-type {\n",
              "        vertical-align: middle;\n",
              "    }\n",
              "\n",
              "    .dataframe tbody tr th {\n",
              "        vertical-align: top;\n",
              "    }\n",
              "\n",
              "    .dataframe thead th {\n",
              "        text-align: right;\n",
              "    }\n",
              "</style>\n",
              "<table border=\"1\" class=\"dataframe\">\n",
              "  <thead>\n",
              "    <tr style=\"text-align: right;\">\n",
              "      <th></th>\n",
              "      <th>Tahun</th>\n",
              "      <th>Bulan</th>\n",
              "      <th>tgl</th>\n",
              "      <th>temp7</th>\n",
              "      <th>temp13</th>\n",
              "      <th>temp18</th>\n",
              "      <th>temp_avg</th>\n",
              "      <th>temp_24</th>\n",
              "      <th>temp_max</th>\n",
              "      <th>temp_min</th>\n",
              "      <th>...</th>\n",
              "      <th>press</th>\n",
              "      <th>humid7</th>\n",
              "      <th>humid13</th>\n",
              "      <th>humid18</th>\n",
              "      <th>humid_avg</th>\n",
              "      <th>humid_24</th>\n",
              "      <th>ws_abg</th>\n",
              "      <th>mod_dir</th>\n",
              "      <th>max_ws</th>\n",
              "      <th>dir</th>\n",
              "    </tr>\n",
              "  </thead>\n",
              "  <tbody>\n",
              "    <tr>\n",
              "      <th>0</th>\n",
              "      <td>2019</td>\n",
              "      <td>1</td>\n",
              "      <td>1.0</td>\n",
              "      <td>27.4</td>\n",
              "      <td>33.2</td>\n",
              "      <td>29.8</td>\n",
              "      <td>29.5</td>\n",
              "      <td>29.7</td>\n",
              "      <td>33.8</td>\n",
              "      <td>26.8</td>\n",
              "      <td>...</td>\n",
              "      <td>1010.3</td>\n",
              "      <td>78.6505836125575</td>\n",
              "      <td>54.836446564128074</td>\n",
              "      <td>74.27096201770802</td>\n",
              "      <td>72.0</td>\n",
              "      <td>71.0</td>\n",
              "      <td>5.75</td>\n",
              "      <td>BL</td>\n",
              "      <td>10.0</td>\n",
              "      <td>290.0</td>\n",
              "    </tr>\n",
              "    <tr>\n",
              "      <th>1</th>\n",
              "      <td>2019</td>\n",
              "      <td>1</td>\n",
              "      <td>2.0</td>\n",
              "      <td>28.2</td>\n",
              "      <td>34.4</td>\n",
              "      <td>26.0</td>\n",
              "      <td>29.2</td>\n",
              "      <td>28.5</td>\n",
              "      <td>34.8</td>\n",
              "      <td>25.2</td>\n",
              "      <td>...</td>\n",
              "      <td>1010.6</td>\n",
              "      <td>73.40380157973996</td>\n",
              "      <td>53.68666285089573</td>\n",
              "      <td>93.47656840107817</td>\n",
              "      <td>73.0</td>\n",
              "      <td>77.0</td>\n",
              "      <td>3.7916666666666665</td>\n",
              "      <td>B</td>\n",
              "      <td>16.0</td>\n",
              "      <td>340.0</td>\n",
              "    </tr>\n",
              "    <tr>\n",
              "      <th>2</th>\n",
              "      <td>2019</td>\n",
              "      <td>1</td>\n",
              "      <td>3.0</td>\n",
              "      <td>25.4</td>\n",
              "      <td>31.3</td>\n",
              "      <td>26.6</td>\n",
              "      <td>27.2</td>\n",
              "      <td>27.2</td>\n",
              "      <td>31.7</td>\n",
              "      <td>24.8</td>\n",
              "      <td>...</td>\n",
              "      <td>1011.4</td>\n",
              "      <td>94.20347210821006</td>\n",
              "      <td>64.95247934343949</td>\n",
              "      <td>87.31227976924256</td>\n",
              "      <td>85.0</td>\n",
              "      <td>83.0</td>\n",
              "      <td>2.875</td>\n",
              "      <td>B</td>\n",
              "      <td>12.0</td>\n",
              "      <td>330.0</td>\n",
              "    </tr>\n",
              "    <tr>\n",
              "      <th>3</th>\n",
              "      <td>2019</td>\n",
              "      <td>1</td>\n",
              "      <td>4.0</td>\n",
              "      <td>25.4</td>\n",
              "      <td>31.4</td>\n",
              "      <td>29.6</td>\n",
              "      <td>28.0</td>\n",
              "      <td>28.3</td>\n",
              "      <td>32.1</td>\n",
              "      <td>25.0</td>\n",
              "      <td>...</td>\n",
              "      <td>1012.5</td>\n",
              "      <td>91.76423123386563</td>\n",
              "      <td>66.24430228261507</td>\n",
              "      <td>76.86944439631735</td>\n",
              "      <td>82.0</td>\n",
              "      <td>82.0</td>\n",
              "      <td>3.0</td>\n",
              "      <td>U</td>\n",
              "      <td>12.0</td>\n",
              "      <td>360.0</td>\n",
              "    </tr>\n",
              "    <tr>\n",
              "      <th>4</th>\n",
              "      <td>2019</td>\n",
              "      <td>1</td>\n",
              "      <td>5.0</td>\n",
              "      <td>27.6</td>\n",
              "      <td>33.0</td>\n",
              "      <td>30.6</td>\n",
              "      <td>29.7</td>\n",
              "      <td>29.7</td>\n",
              "      <td>33.4</td>\n",
              "      <td>26.8</td>\n",
              "      <td>...</td>\n",
              "      <td>1014.1</td>\n",
              "      <td>86.08433224972319</td>\n",
              "      <td>60.26014815147468</td>\n",
              "      <td>70.13680564800549</td>\n",
              "      <td>76.0</td>\n",
              "      <td>76.0</td>\n",
              "      <td>3.5</td>\n",
              "      <td>U</td>\n",
              "      <td>15.0</td>\n",
              "      <td>350.0</td>\n",
              "    </tr>\n",
              "  </tbody>\n",
              "</table>\n",
              "<p>5 rows × 25 columns</p>\n",
              "</div>\n",
              "    <div class=\"colab-df-buttons\">\n",
              "\n",
              "  <div class=\"colab-df-container\">\n",
              "    <button class=\"colab-df-convert\" onclick=\"convertToInteractive('df-bc641ff4-942a-48d7-83db-b08f83b51b29')\"\n",
              "            title=\"Convert this dataframe to an interactive table.\"\n",
              "            style=\"display:none;\">\n",
              "\n",
              "  <svg xmlns=\"http://www.w3.org/2000/svg\" height=\"24px\" viewBox=\"0 -960 960 960\">\n",
              "    <path d=\"M120-120v-720h720v720H120Zm60-500h600v-160H180v160Zm220 220h160v-160H400v160Zm0 220h160v-160H400v160ZM180-400h160v-160H180v160Zm440 0h160v-160H620v160ZM180-180h160v-160H180v160Zm440 0h160v-160H620v160Z\"/>\n",
              "  </svg>\n",
              "    </button>\n",
              "\n",
              "  <style>\n",
              "    .colab-df-container {\n",
              "      display:flex;\n",
              "      gap: 12px;\n",
              "    }\n",
              "\n",
              "    .colab-df-convert {\n",
              "      background-color: #E8F0FE;\n",
              "      border: none;\n",
              "      border-radius: 50%;\n",
              "      cursor: pointer;\n",
              "      display: none;\n",
              "      fill: #1967D2;\n",
              "      height: 32px;\n",
              "      padding: 0 0 0 0;\n",
              "      width: 32px;\n",
              "    }\n",
              "\n",
              "    .colab-df-convert:hover {\n",
              "      background-color: #E2EBFA;\n",
              "      box-shadow: 0px 1px 2px rgba(60, 64, 67, 0.3), 0px 1px 3px 1px rgba(60, 64, 67, 0.15);\n",
              "      fill: #174EA6;\n",
              "    }\n",
              "\n",
              "    .colab-df-buttons div {\n",
              "      margin-bottom: 4px;\n",
              "    }\n",
              "\n",
              "    [theme=dark] .colab-df-convert {\n",
              "      background-color: #3B4455;\n",
              "      fill: #D2E3FC;\n",
              "    }\n",
              "\n",
              "    [theme=dark] .colab-df-convert:hover {\n",
              "      background-color: #434B5C;\n",
              "      box-shadow: 0px 1px 3px 1px rgba(0, 0, 0, 0.15);\n",
              "      filter: drop-shadow(0px 1px 2px rgba(0, 0, 0, 0.3));\n",
              "      fill: #FFFFFF;\n",
              "    }\n",
              "  </style>\n",
              "\n",
              "    <script>\n",
              "      const buttonEl =\n",
              "        document.querySelector('#df-bc641ff4-942a-48d7-83db-b08f83b51b29 button.colab-df-convert');\n",
              "      buttonEl.style.display =\n",
              "        google.colab.kernel.accessAllowed ? 'block' : 'none';\n",
              "\n",
              "      async function convertToInteractive(key) {\n",
              "        const element = document.querySelector('#df-bc641ff4-942a-48d7-83db-b08f83b51b29');\n",
              "        const dataTable =\n",
              "          await google.colab.kernel.invokeFunction('convertToInteractive',\n",
              "                                                    [key], {});\n",
              "        if (!dataTable) return;\n",
              "\n",
              "        const docLinkHtml = 'Like what you see? Visit the ' +\n",
              "          '<a target=\"_blank\" href=https://colab.research.google.com/notebooks/data_table.ipynb>data table notebook</a>'\n",
              "          + ' to learn more about interactive tables.';\n",
              "        element.innerHTML = '';\n",
              "        dataTable['output_type'] = 'display_data';\n",
              "        await google.colab.output.renderOutput(dataTable, element);\n",
              "        const docLink = document.createElement('div');\n",
              "        docLink.innerHTML = docLinkHtml;\n",
              "        element.appendChild(docLink);\n",
              "      }\n",
              "    </script>\n",
              "  </div>\n",
              "\n",
              "\n",
              "<div id=\"df-e6910e96-7334-41ef-b286-101e6f3b91ee\">\n",
              "  <button class=\"colab-df-quickchart\" onclick=\"quickchart('df-e6910e96-7334-41ef-b286-101e6f3b91ee')\"\n",
              "            title=\"Suggest charts\"\n",
              "            style=\"display:none;\">\n",
              "\n",
              "<svg xmlns=\"http://www.w3.org/2000/svg\" height=\"24px\"viewBox=\"0 0 24 24\"\n",
              "     width=\"24px\">\n",
              "    <g>\n",
              "        <path d=\"M19 3H5c-1.1 0-2 .9-2 2v14c0 1.1.9 2 2 2h14c1.1 0 2-.9 2-2V5c0-1.1-.9-2-2-2zM9 17H7v-7h2v7zm4 0h-2V7h2v10zm4 0h-2v-4h2v4z\"/>\n",
              "    </g>\n",
              "</svg>\n",
              "  </button>\n",
              "\n",
              "<style>\n",
              "  .colab-df-quickchart {\n",
              "      --bg-color: #E8F0FE;\n",
              "      --fill-color: #1967D2;\n",
              "      --hover-bg-color: #E2EBFA;\n",
              "      --hover-fill-color: #174EA6;\n",
              "      --disabled-fill-color: #AAA;\n",
              "      --disabled-bg-color: #DDD;\n",
              "  }\n",
              "\n",
              "  [theme=dark] .colab-df-quickchart {\n",
              "      --bg-color: #3B4455;\n",
              "      --fill-color: #D2E3FC;\n",
              "      --hover-bg-color: #434B5C;\n",
              "      --hover-fill-color: #FFFFFF;\n",
              "      --disabled-bg-color: #3B4455;\n",
              "      --disabled-fill-color: #666;\n",
              "  }\n",
              "\n",
              "  .colab-df-quickchart {\n",
              "    background-color: var(--bg-color);\n",
              "    border: none;\n",
              "    border-radius: 50%;\n",
              "    cursor: pointer;\n",
              "    display: none;\n",
              "    fill: var(--fill-color);\n",
              "    height: 32px;\n",
              "    padding: 0;\n",
              "    width: 32px;\n",
              "  }\n",
              "\n",
              "  .colab-df-quickchart:hover {\n",
              "    background-color: var(--hover-bg-color);\n",
              "    box-shadow: 0 1px 2px rgba(60, 64, 67, 0.3), 0 1px 3px 1px rgba(60, 64, 67, 0.15);\n",
              "    fill: var(--button-hover-fill-color);\n",
              "  }\n",
              "\n",
              "  .colab-df-quickchart-complete:disabled,\n",
              "  .colab-df-quickchart-complete:disabled:hover {\n",
              "    background-color: var(--disabled-bg-color);\n",
              "    fill: var(--disabled-fill-color);\n",
              "    box-shadow: none;\n",
              "  }\n",
              "\n",
              "  .colab-df-spinner {\n",
              "    border: 2px solid var(--fill-color);\n",
              "    border-color: transparent;\n",
              "    border-bottom-color: var(--fill-color);\n",
              "    animation:\n",
              "      spin 1s steps(1) infinite;\n",
              "  }\n",
              "\n",
              "  @keyframes spin {\n",
              "    0% {\n",
              "      border-color: transparent;\n",
              "      border-bottom-color: var(--fill-color);\n",
              "      border-left-color: var(--fill-color);\n",
              "    }\n",
              "    20% {\n",
              "      border-color: transparent;\n",
              "      border-left-color: var(--fill-color);\n",
              "      border-top-color: var(--fill-color);\n",
              "    }\n",
              "    30% {\n",
              "      border-color: transparent;\n",
              "      border-left-color: var(--fill-color);\n",
              "      border-top-color: var(--fill-color);\n",
              "      border-right-color: var(--fill-color);\n",
              "    }\n",
              "    40% {\n",
              "      border-color: transparent;\n",
              "      border-right-color: var(--fill-color);\n",
              "      border-top-color: var(--fill-color);\n",
              "    }\n",
              "    60% {\n",
              "      border-color: transparent;\n",
              "      border-right-color: var(--fill-color);\n",
              "    }\n",
              "    80% {\n",
              "      border-color: transparent;\n",
              "      border-right-color: var(--fill-color);\n",
              "      border-bottom-color: var(--fill-color);\n",
              "    }\n",
              "    90% {\n",
              "      border-color: transparent;\n",
              "      border-bottom-color: var(--fill-color);\n",
              "    }\n",
              "  }\n",
              "</style>\n",
              "\n",
              "  <script>\n",
              "    async function quickchart(key) {\n",
              "      const quickchartButtonEl =\n",
              "        document.querySelector('#' + key + ' button');\n",
              "      quickchartButtonEl.disabled = true;  // To prevent multiple clicks.\n",
              "      quickchartButtonEl.classList.add('colab-df-spinner');\n",
              "      try {\n",
              "        const charts = await google.colab.kernel.invokeFunction(\n",
              "            'suggestCharts', [key], {});\n",
              "      } catch (error) {\n",
              "        console.error('Error during call to suggestCharts:', error);\n",
              "      }\n",
              "      quickchartButtonEl.classList.remove('colab-df-spinner');\n",
              "      quickchartButtonEl.classList.add('colab-df-quickchart-complete');\n",
              "    }\n",
              "    (() => {\n",
              "      let quickchartButtonEl =\n",
              "        document.querySelector('#df-e6910e96-7334-41ef-b286-101e6f3b91ee button');\n",
              "      quickchartButtonEl.style.display =\n",
              "        google.colab.kernel.accessAllowed ? 'block' : 'none';\n",
              "    })();\n",
              "  </script>\n",
              "</div>\n",
              "    </div>\n",
              "  </div>\n"
            ]
          },
          "metadata": {},
          "execution_count": 18
        }
      ]
    },
    {
      "cell_type": "markdown",
      "source": [
        "**Langkah 5: Data Understanding**"
      ],
      "metadata": {
        "id": "sTRD9b4nOi6p"
      }
    },
    {
      "cell_type": "code",
      "source": [
        "# Membuat DataFrame Spark dari data Pandas\n",
        "spark_df = spark.createDataFrame(weather_data)"
      ],
      "metadata": {
        "id": "NeyICpzIOrr4"
      },
      "execution_count": null,
      "outputs": []
    },
    {
      "cell_type": "code",
      "source": [
        "# Menampilkan skema data\n",
        "spark_df.printSchema()"
      ],
      "metadata": {
        "colab": {
          "base_uri": "https://localhost:8080/"
        },
        "id": "1J4lrPqyOz0t",
        "outputId": "b4e03f8e-dd7f-4706-c29a-22eb3c58e202"
      },
      "execution_count": null,
      "outputs": [
        {
          "output_type": "stream",
          "name": "stdout",
          "text": [
            "root\n",
            " |-- Tahun: long (nullable = true)\n",
            " |-- Bulan: long (nullable = true)\n",
            " |-- tgl: string (nullable = true)\n",
            " |-- temp7: string (nullable = true)\n",
            " |-- temp13: string (nullable = true)\n",
            " |-- temp18: string (nullable = true)\n",
            " |-- temp_avg: string (nullable = true)\n",
            " |-- temp_24: string (nullable = true)\n",
            " |-- temp_max: string (nullable = true)\n",
            " |-- temp_min: string (nullable = true)\n",
            " |-- CH: string (nullable = true)\n",
            " |-- light_hour: string (nullable = true)\n",
            " |-- light_per: string (nullable = true)\n",
            " |-- pck: string (nullable = true)\n",
            " |-- tgl.1: string (nullable = true)\n",
            " |-- press: string (nullable = true)\n",
            " |-- humid7: string (nullable = true)\n",
            " |-- humid13: string (nullable = true)\n",
            " |-- humid18: string (nullable = true)\n",
            " |-- humid_avg: string (nullable = true)\n",
            " |-- humid_24: string (nullable = true)\n",
            " |-- ws_abg: string (nullable = true)\n",
            " |-- mod_dir: string (nullable = true)\n",
            " |-- max_ws: string (nullable = true)\n",
            " |-- dir: string (nullable = true)\n",
            "\n"
          ]
        }
      ]
    },
    {
      "cell_type": "code",
      "source": [
        "# Menampilkan beberapa baris data\n",
        "spark_df.show(5)"
      ],
      "metadata": {
        "colab": {
          "base_uri": "https://localhost:8080/"
        },
        "id": "ERj8Keq3O2XD",
        "outputId": "d2fe5238-e039-4777-8cc7-83b3d72d546c"
      },
      "execution_count": null,
      "outputs": [
        {
          "output_type": "stream",
          "name": "stdout",
          "text": [
            "+-----+-----+---+-----+------+------+--------+-------+--------+--------+----+----------+-----------------+------+-----+------+-----------------+------------------+-----------------+---------+--------+------------------+-------+------+-----+\n",
            "|Tahun|Bulan|tgl|temp7|temp13|temp18|temp_avg|temp_24|temp_max|temp_min|  CH|light_hour|        light_per|   pck|tgl.1| press|           humid7|           humid13|          humid18|humid_avg|humid_24|            ws_abg|mod_dir|max_ws|  dir|\n",
            "+-----+-----+---+-----+------+------+--------+-------+--------+--------+----+----------+-----------------+------+-----+------+-----------------+------------------+-----------------+---------+--------+------------------+-------+------+-----+\n",
            "| 2019|    1|1.0| 27.4|  33.2|  29.8|    29.5|   29.7|    33.8|    26.8|   -|       4.6|57.49999999999999|      |  1.0|1010.3| 78.6505836125575|54.836446564128074|74.27096201770802|     72.0|    71.0|              5.75|     BL|  10.0|290.0|\n",
            "| 2019|    1|2.0| 28.2|  34.4|  26.0|    29.2|   28.5|    34.8|    25.2|   -|       6.3|            78.75|TS    |  2.0|1010.6|73.40380157973996| 53.68666285089573|93.47656840107817|     73.0|    77.0|3.7916666666666665|      B|  16.0|340.0|\n",
            "| 2019|    1|3.0| 25.4|  31.3|  26.6|    27.2|   27.2|    31.7|    24.8|20.5|       0.0|              0.0|  RA  |  3.0|1011.4|94.20347210821006| 64.95247934343949|87.31227976924256|     85.0|    83.0|             2.875|      B|  12.0|330.0|\n",
            "| 2019|    1|4.0| 25.4|  31.4|  29.6|    28.0|   28.3|    32.1|    25.0| 2.6|       4.3|            53.75|  RA  |  4.0|1012.5|91.76423123386563| 66.24430228261507|76.86944439631735|     82.0|    82.0|               3.0|      U|  12.0|360.0|\n",
            "| 2019|    1|5.0| 27.6|  33.0|  30.6|    29.7|   29.7|    33.4|    26.8| 0.9|       5.4|             67.5|  RA  |  5.0|1014.1|86.08433224972319| 60.26014815147468|70.13680564800549|     76.0|    76.0|               3.5|      U|  15.0|350.0|\n",
            "+-----+-----+---+-----+------+------+--------+-------+--------+--------+----+----------+-----------------+------+-----+------+-----------------+------------------+-----------------+---------+--------+------------------+-------+------+-----+\n",
            "only showing top 5 rows\n",
            "\n"
          ]
        }
      ]
    },
    {
      "cell_type": "code",
      "source": [
        "# Menghapus kolom \"tgl\"\n",
        "spark_df = spark_df.drop(\"tgl\")"
      ],
      "metadata": {
        "id": "jiSqlBPtPIR_"
      },
      "execution_count": null,
      "outputs": []
    },
    {
      "cell_type": "code",
      "source": [
        "# Tampilkan skema untuk melihat nama kolom dengan jelas\n",
        "spark_df.printSchema()"
      ],
      "metadata": {
        "colab": {
          "base_uri": "https://localhost:8080/"
        },
        "id": "VGwRlswxRAdk",
        "outputId": "616bbf68-8acd-48a0-8ddd-c9de70f8ff62"
      },
      "execution_count": null,
      "outputs": [
        {
          "output_type": "stream",
          "name": "stdout",
          "text": [
            "root\n",
            " |-- Tahun: long (nullable = true)\n",
            " |-- Bulan: long (nullable = true)\n",
            " |-- temp7: string (nullable = true)\n",
            " |-- temp13: string (nullable = true)\n",
            " |-- temp18: string (nullable = true)\n",
            " |-- temp_avg: string (nullable = true)\n",
            " |-- temp_24: string (nullable = true)\n",
            " |-- temp_max: string (nullable = true)\n",
            " |-- temp_min: string (nullable = true)\n",
            " |-- CH: string (nullable = true)\n",
            " |-- light_hour: string (nullable = true)\n",
            " |-- light_per: string (nullable = true)\n",
            " |-- pck: string (nullable = true)\n",
            " |-- tgl.1: string (nullable = true)\n",
            " |-- press: string (nullable = true)\n",
            " |-- humid7: string (nullable = true)\n",
            " |-- humid13: string (nullable = true)\n",
            " |-- humid18: string (nullable = true)\n",
            " |-- humid_avg: string (nullable = true)\n",
            " |-- humid_24: string (nullable = true)\n",
            " |-- ws_abg: string (nullable = true)\n",
            " |-- mod_dir: string (nullable = true)\n",
            " |-- max_ws: string (nullable = true)\n",
            " |-- dir: string (nullable = true)\n",
            "\n"
          ]
        }
      ]
    },
    {
      "cell_type": "code",
      "source": [
        "#Pilih Kolom yang Dibutuhkan\n",
        "selected_columns = [\"Tahun\", \"Bulan\", \"temp7\", \"temp13\", \"temp18\", \"temp_avg\", \"temp_24\", \"temp_max\", \"temp_min\", \"CH\", \"light_hour\", \"light_per\", \"pck\", \"press\", \"humid7\", \"humid13\", \"humid18\", \"humid_avg\", \"humid_24\", \"ws_abg\", \"mod_dir\", \"max_ws\", \"dir\"]\n",
        "spark_df = spark_df.select(*selected_columns)"
      ],
      "metadata": {
        "id": "368KBIihRDV4"
      },
      "execution_count": null,
      "outputs": []
    },
    {
      "cell_type": "code",
      "source": [
        "# Statistik deskriptif\n",
        "spark_df.describe().show()"
      ],
      "metadata": {
        "colab": {
          "base_uri": "https://localhost:8080/"
        },
        "id": "vfpkCs_jRFxo",
        "outputId": "74f99fe5-c33d-48d6-fb1e-6cf3765acfe5"
      },
      "execution_count": null,
      "outputs": [
        {
          "output_type": "stream",
          "name": "stdout",
          "text": [
            "+-------+------------------+------------------+------------------+------------------+------------------+------------------+------------------+------------------+------------------+------------------+-----------------+-----------------+---------------+------------------+-----------------+------------------+-----------------+-----------------+-----------------+------------------+-------+------------------+------------------+\n",
            "|summary|             Tahun|             Bulan|             temp7|            temp13|            temp18|          temp_avg|           temp_24|          temp_max|          temp_min|                CH|       light_hour|        light_per|            pck|             press|           humid7|           humid13|          humid18|        humid_avg|         humid_24|            ws_abg|mod_dir|            max_ws|               dir|\n",
            "+-------+------------------+------------------+------------------+------------------+------------------+------------------+------------------+------------------+------------------+------------------+-----------------+-----------------+---------------+------------------+-----------------+------------------+-----------------+-----------------+-----------------+------------------+-------+------------------+------------------+\n",
            "|  count|              1091|              1091|              1091|              1091|              1091|              1091|              1091|              1091|              1091|              1091|             1091|             1091|           1091|              1091|             1091|              1091|             1091|             1091|             1091|              1091|   1091|              1091|              1091|\n",
            "|   mean| 2020.000916590284| 6.519706691109074|26.618990825688083| 33.13119266055048|29.219357798165127|28.910733944954135|29.012293577981673| 34.11018348623854|25.502752293577974| 15.23611111111111| 6.00100917431193|75.01261467889908|            NaN|1011.0544954128444|84.51050792764141|57.206925181887904|74.50569796993202|75.19724770642202|75.00733944954129| 4.278475269246108|   NULL| 11.83302752293578|168.61467889908258|\n",
            "| stddev|0.8189269570155421|3.4543319839261777|1.2715784461194986|1.7916343323474184|1.4991033593331462|1.0756186051269137|1.0470454588450384|1.3519420997399805| 1.139277775799617|18.794805374581554|2.197596334855828|27.46995418569785|            NaN|1.5727485759279336|5.357163336989035|10.255047141270628|8.779651096695298| 6.35646000429105|6.499978193394502|1.2187443546736036|   NULL|3.1438734581146184|  93.5623330236279|\n",
            "|    min|              2019|                 1|                  |                  |                  |                  |                  |                  |                  |                  |                 |                 |               |                  |                 |                  |                 |                 |                 |                  |       |                  |                  |\n",
            "|    max|              2021|                12|              30.2|              37.2|              32.6|                32|              31.7|              37.6|              28.0|               TTU|              8.0|            98.75|TS RA Lightning|            1016.2|96.63886703674758|  93.5486918993112|96.65428976201805|               93|               94| 8.916666666666666|      U|               9.0|              90.0|\n",
            "+-------+------------------+------------------+------------------+------------------+------------------+------------------+------------------+------------------+------------------+------------------+-----------------+-----------------+---------------+------------------+-----------------+------------------+-----------------+-----------------+-----------------+------------------+-------+------------------+------------------+\n",
            "\n"
          ]
        }
      ]
    },
    {
      "cell_type": "markdown",
      "source": [
        "**Langkah 6: Data Preprocessing**"
      ],
      "metadata": {
        "id": "rZc5TKQCRT2Z"
      }
    },
    {
      "cell_type": "code",
      "source": [
        "# Menangani missing values\n",
        "spark_df = spark_df.na.fill(0)"
      ],
      "metadata": {
        "id": "5To3pFjbRX52"
      },
      "execution_count": null,
      "outputs": []
    },
    {
      "cell_type": "markdown",
      "source": [
        "**Langkah 7: Analisis dan Pemodelan**"
      ],
      "metadata": {
        "id": "CSkEMiiuRdN7"
      }
    },
    {
      "cell_type": "code",
      "source": [
        "# Melakukan analisis sederhana\n",
        "from pyspark.sql.types import DoubleType\n",
        "\n",
        "# Contoh: Jika kolom \"temp_avg\" atau \"humid_avg\" tidak memiliki tipe data numerik\n",
        "spark_df = spark_df.withColumn(\"temp_avg\", spark_df[\"temp_avg\"].cast(DoubleType()))\n",
        "spark_df = spark_df.withColumn(\"humid_avg\", spark_df[\"humid_avg\"].cast(DoubleType()))\n",
        "\n",
        "# Contoh: Melihat korelasi antara suhu dan kelembaban\n",
        "correlation = spark_df.stat.corr(\"temp_avg\", \"humid_avg\")\n",
        "print(f\"Korelasi antara suhu_avg dan kelembaban_avg: {correlation}\")"
      ],
      "metadata": {
        "colab": {
          "base_uri": "https://localhost:8080/"
        },
        "id": "CQyY6hifRf40",
        "outputId": "2869900f-dc94-4111-d0e3-4b25b3a55d0b"
      },
      "execution_count": null,
      "outputs": [
        {
          "output_type": "stream",
          "name": "stdout",
          "text": [
            "Korelasi antara suhu_avg dan kelembaban_avg: -0.11011970197912052\n"
          ]
        }
      ]
    },
    {
      "cell_type": "code",
      "source": [
        "# Membuat model prediksi (Contoh: Regresi Linear)\n",
        "from pyspark.ml.feature import VectorAssembler\n",
        "from pyspark.ml.regression import LinearRegression"
      ],
      "metadata": {
        "id": "7rMX0OtbR36x"
      },
      "execution_count": null,
      "outputs": []
    },
    {
      "cell_type": "code",
      "source": [
        "from pyspark.sql.functions import col\n",
        "\n",
        "# Tampilkan jumlah nilai null untuk setiap kolom\n",
        "spark_df.select([col(c).alias(c) for c in spark_df.columns]).na.drop().show()"
      ],
      "metadata": {
        "colab": {
          "base_uri": "https://localhost:8080/"
        },
        "id": "grGwDVjiSCGB",
        "outputId": "4ba23eb5-56ff-4370-f480-c29312a3ac1c"
      },
      "execution_count": null,
      "outputs": [
        {
          "output_type": "stream",
          "name": "stdout",
          "text": [
            "+-----+-----+-----+------+------+--------+-------+--------+--------+----+----------+-----------------+---------------+------+-----------------+------------------+-----------------+---------+--------+------------------+-------+------+-----+\n",
            "|Tahun|Bulan|temp7|temp13|temp18|temp_avg|temp_24|temp_max|temp_min|  CH|light_hour|        light_per|            pck| press|           humid7|           humid13|          humid18|humid_avg|humid_24|            ws_abg|mod_dir|max_ws|  dir|\n",
            "+-----+-----+-----+------+------+--------+-------+--------+--------+----+----------+-----------------+---------------+------+-----------------+------------------+-----------------+---------+--------+------------------+-------+------+-----+\n",
            "| 2019|    1| 27.4|  33.2|  29.8|    29.5|   29.7|    33.8|    26.8|   -|       4.6|57.49999999999999|               |1010.3| 78.6505836125575|54.836446564128074|74.27096201770802|     72.0|    71.0|              5.75|     BL|  10.0|290.0|\n",
            "| 2019|    1| 28.2|  34.4|  26.0|    29.2|   28.5|    34.8|    25.2|   -|       6.3|            78.75|         TS    |1010.6|73.40380157973996| 53.68666285089573|93.47656840107817|     73.0|    77.0|3.7916666666666665|      B|  16.0|340.0|\n",
            "| 2019|    1| 25.4|  31.3|  26.6|    27.2|   27.2|    31.7|    24.8|20.5|       0.0|              0.0|           RA  |1011.4|94.20347210821006| 64.95247934343949|87.31227976924256|     85.0|    83.0|             2.875|      B|  12.0|330.0|\n",
            "| 2019|    1| 25.4|  31.4|  29.6|    28.0|   28.3|    32.1|    25.0| 2.6|       4.3|            53.75|           RA  |1012.5|91.76423123386563| 66.24430228261507|76.86944439631735|     82.0|    82.0|               3.0|      U|  12.0|360.0|\n",
            "| 2019|    1| 27.6|  33.0|  30.6|    29.7|   29.7|    33.4|    26.8| 0.9|       5.4|             67.5|           RA  |1014.1|86.08433224972319| 60.26014815147468|70.13680564800549|     76.0|    76.0|               3.5|      U|  15.0|350.0|\n",
            "| 2019|    1| 27.8|  34.9|  31.2|    30.4|   30.7|    35.2|    26.9| TTU|       7.0|             87.5|TS RA Lightning|1012.4|84.66016992712476|57.261489336940926|72.39479665599225|     75.0|    73.0|             4.125|     BL|  13.0| 10.0|\n",
            "| 2019|    1| 28.1|  33.7|  26.5|    29.1|   28.6|    33.9|    25.1|   -|       5.2|             65.0|         TS    |1012.1|83.29435615193387| 61.32960190958715|87.28417611042134|     79.0|    81.0|               2.5|      U|  14.0|210.0|\n",
            "| 2019|    1| 25.9|  33.6|  31.4|    29.2|   30.0|    34.7|    25.8|10.5|       6.0|             75.0|           RA  |1012.3|90.26397538441725|58.459408741925415|68.09715082424871|     77.0|    74.0|               3.5|      U|  12.0| 60.0|\n",
            "| 2019|    1| 28.0|  32.4|  30.2|    29.7|   29.7|    34.6|    27.0| TTU|       5.3|            66.25|           RA  |1010.8|81.80335062722672| 70.53599360653745|76.47554524506884|     78.0|    78.0|2.5833333333333335|      U|  10.0|330.0|\n",
            "| 2019|    1| 27.5|  34.3|  30.6|    30.0|   30.3|    35.4|    27.0| 2.1|       7.2|             90.0|           RA  |1011.6|83.07899862850904| 58.97993847082304|70.77844325470129|     74.0|    73.0|             3.125|      U|  14.0|360.0|\n",
            "| 2019|    1| 27.4|  35.4|  31.0|    30.3|   30.0|    35.7|    26.0| TTU|       7.9|            98.75|           RA  |1010.5| 82.3037605792764|  54.4931779493871|73.57684986071314|     73.0|    74.0|2.5833333333333335|     BL|  14.0|360.0|\n",
            "| 2019|    1| 26.8|  33.5|  30.1|    29.3|   29.1|    34.2|    25.8|   1|       4.4|55.00000000000001|           RA  |1010.9|87.36803915131289| 57.82873831221078| 71.7895335799344|     76.0|    76.0|             2.375|      U|  13.0|350.0|\n",
            "| 2019|    1| 26.4|  34.2|  30.0|    29.3|   29.5|    34.5|    25.9|   -|       5.9|            73.75|               |1010.2|87.25592172444505| 57.81341404547635|74.37439491091294|     77.0|    75.0|2.5833333333333335|      U|  13.0| 10.0|\n",
            "| 2019|    1| 27.4|  35.5|  31.4|    30.4|   29.7|    35.7|    25.3|   -|       8.0|            100.0| TS   Lightning|1009.1|83.78382675153738| 52.52176779664999|71.23127823712667|     73.0|    76.0|3.7083333333333335|      B|  17.0|360.0|\n",
            "| 2019|    1| 26.4|  35.0|  27.6|    28.9|   28.8|    35.7|    25.2| 5.6|       7.5|            93.75|        TS RA  |1008.6|86.48394160482556|54.175252372201854|85.33799824315096|     78.0|    79.0|               5.0|      B|  17.0| 90.0|\n",
            "| 2019|    1| 26.8|  31.8|  26.4|    28.0|   26.9|    32.1|    25.0|22.5|       0.3|             3.75|        TS RA  |1007.9|88.13596701456069| 67.72628345631995|93.53442062998897|     84.0|    88.0|               3.0|      B|  12.0|280.0|\n",
            "| 2019|    1| 26.7|  31.6|  27.3|    28.1|   27.3|    32.0|    24.1|  42|       3.1|            38.75|        TS RA  |1008.2|86.57341089690401| 70.08599291687322|91.33066155325706|     84.0|    87.0|3.8333333333333335|     BL|  13.0|300.0|\n",
            "| 2019|    1| 25.0|  28.5|  29.6|    27.0|   28.0|    33.1|    25.0|91.6|       7.8|             97.5|        TS RA  |1008.7|96.63886703674758| 76.33826502408279| 78.2359623324487|     87.0|    82.0|             4.375|      U|  16.0|340.0|\n",
            "| 2019|    1| 25.8|  32.6|  25.6|    27.5|   27.4|    32.8|    25.4|  30|       5.3|            66.25|        TS RA  |1009.1|93.44717431496541|  65.8095985056604|95.04508007848057|     87.0|    88.0|             2.125|     TG|  20.0|160.0|\n",
            "| 2019|    1| 26.4|  34.0|  27.6|    28.6|   28.5|    34.2|    25.4|  65|       6.9|            86.25|        TS RA  |1009.5|93.53442062998897| 58.75903264342234| 89.0972680703221|     84.0|    84.0|               4.0|     BL|  20.0|360.0|\n",
            "+-----+-----+-----+------+------+--------+-------+--------+--------+----+----------+-----------------+---------------+------+-----------------+------------------+-----------------+---------+--------+------------------+-------+------+-----+\n",
            "only showing top 20 rows\n",
            "\n"
          ]
        }
      ]
    },
    {
      "cell_type": "code",
      "source": [
        "# Hapus baris-baris dengan nilai null\n",
        "spark_df = spark_df.na.drop()\n"
      ],
      "metadata": {
        "id": "R5BWRZtTSSzW"
      },
      "execution_count": null,
      "outputs": []
    },
    {
      "cell_type": "code",
      "source": [
        "# Gantikan nilai null dengan nilai tertentu (misalnya, 0)\n",
        "spark_df = spark_df.fillna(0)\n"
      ],
      "metadata": {
        "id": "-3no8VikSrtb"
      },
      "execution_count": null,
      "outputs": []
    },
    {
      "cell_type": "code",
      "source": [
        "# Menyusun fitur-fitur untuk model\n",
        "feature_columns = [\"temp7\", \"humid7\", \"ws_abg\"]\n",
        "assembler = VectorAssembler(inputCols=feature_columns, outputCol=\"features\")\n",
        "assembled_df = assembler.transform(spark_df)\n"
      ],
      "metadata": {
        "id": "8d7SpGenSQVf"
      },
      "execution_count": null,
      "outputs": []
    },
    {
      "cell_type": "code",
      "source": [
        "# Membagi data menjadi training dan testing\n",
        "train_data, test_data = assembled_df.randomSplit([0.8, 0.2], seed=42)"
      ],
      "metadata": {
        "id": "Rsnb5MP8TrL5"
      },
      "execution_count": null,
      "outputs": []
    },
    {
      "cell_type": "code",
      "source": [
        "# Membuat model Regresi Linear\n",
        "lr = LinearRegression(featuresCol=\"features\", labelCol=\"temp_avg\")\n",
        "model = lr.fit(train_data)"
      ],
      "metadata": {
        "id": "ncvZAVDBT13M"
      },
      "execution_count": null,
      "outputs": []
    },
    {
      "cell_type": "code",
      "source": [
        "# Melakukan prediksi\n",
        "predictions = model.transform(test_data)\n",
        "predictions.select(\"temp_avg\", \"prediction\").show()"
      ],
      "metadata": {
        "colab": {
          "base_uri": "https://localhost:8080/"
        },
        "id": "RGz1ntDHT49V",
        "outputId": "b717b356-d2f5-41c0-ebd7-a14765d68d26"
      },
      "execution_count": null,
      "outputs": [
        {
          "output_type": "stream",
          "name": "stdout",
          "text": [
            "+--------+------------------+\n",
            "|temp_avg|        prediction|\n",
            "+--------+------------------+\n",
            "|    28.0|27.828038899745565|\n",
            "|    27.5|28.006581800260026|\n",
            "|    29.2|28.196864365524178|\n",
            "|    28.2| 28.66516042135195|\n",
            "|    28.4|28.937935956278118|\n",
            "|    30.3| 29.54708741443507|\n",
            "|    29.1|29.923158227557593|\n",
            "|    28.2| 28.13258123691773|\n",
            "|    28.3|28.536569097768428|\n",
            "|    28.8|   28.614515680293|\n",
            "|    28.9|28.688344624484742|\n",
            "|    29.3|28.711977171107137|\n",
            "|    28.6|28.828792171890303|\n",
            "|    30.4|  29.4857451778849|\n",
            "|    28.3| 27.79719390327017|\n",
            "|    28.3| 28.76782671835859|\n",
            "|    28.8|28.849164620581615|\n",
            "|    28.8| 28.59150906905313|\n",
            "|    30.0| 29.45705533497091|\n",
            "|    30.3|  29.5433851822961|\n",
            "+--------+------------------+\n",
            "only showing top 20 rows\n",
            "\n"
          ]
        }
      ]
    },
    {
      "cell_type": "markdown",
      "source": [
        "**Langkah 8: Visualisasi Data dan Output Prediksi**"
      ],
      "metadata": {
        "id": "CihBJCJTT7-p"
      }
    },
    {
      "cell_type": "code",
      "source": [
        "# Visualisasi data (Contoh: Diagram sebar suhu terhadap kelembaban)\n",
        "plt.scatter(weather_data[\"humid_avg\"], weather_data[\"temp_avg\"])\n",
        "plt.title(\"Diagram Sebar Suhu terhadap Kelembaban\")\n",
        "plt.xlabel(\"Kelembaban Rata-rata\")\n",
        "plt.ylabel(\"Suhu Rata-rata\")\n",
        "plt.show()"
      ],
      "metadata": {
        "colab": {
          "base_uri": "https://localhost:8080/",
          "height": 472
        },
        "id": "9JA5NM_1T-ue",
        "outputId": "da731bd0-a2b9-49f7-babd-adc081a33218"
      },
      "execution_count": null,
      "outputs": [
        {
          "output_type": "display_data",
          "data": {
            "text/plain": [
              "<Figure size 640x480 with 1 Axes>"
            ],
            "image/png": "[encoded data removed]"
          },
          "metadata": {}
        }
      ]
    },
    {
      "cell_type": "code",
      "source": [
        "# Visualisasi hasil prediksi\n",
        "predictions_pd = predictions.select(\"temp_avg\", \"prediction\").toPandas()\n",
        "plt.plot(predictions_pd[\"temp_avg\"], label=\"Actual\")\n",
        "plt.plot(predictions_pd[\"prediction\"], label=\"Prediction\")\n",
        "plt.title(\"Prediksi Suhu Rata-rata\")\n",
        "plt.legend()\n",
        "plt.show()"
      ],
      "metadata": {
        "id": "nS48qpN-UCX6",
        "outputId": "a6d5f144-6e97-4af8-e519-b85d58a1f684",
        "colab": {
          "base_uri": "https://localhost:8080/",
          "height": 452
        }
      },
      "execution_count": null,
      "outputs": [
        {
          "output_type": "display_data",
          "data": {
            "text/plain": [
              "<Figure size 640x480 with 1 Axes>"
            ],
            "image/png": "[encoded data removed]"
          },
          "metadata": {}
        }
      ]
    }
  ]
}